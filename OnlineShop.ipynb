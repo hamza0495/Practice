{
  "nbformat": 4,
  "nbformat_minor": 0,
  "metadata": {
    "colab": {
      "name": "OnlineShop.ipynb",
      "provenance": [],
      "collapsed_sections": [],
      "authorship_tag": "ABX9TyO68y9nMST3P/ErMvO794Mq",
      "include_colab_link": true
    },
    "kernelspec": {
      "name": "python3",
      "display_name": "Python 3"
    },
    "language_info": {
      "name": "python"
    }
  },
  "cells": [
    {
      "cell_type": "markdown",
      "metadata": {
        "id": "view-in-github",
        "colab_type": "text"
      },
      "source": [
        "<a href=\"https://colab.research.google.com/github/losinfkwrld/Practice/blob/master/OnlineShop.ipynb\" target=\"_parent\"><img src=\"https://colab.research.google.com/assets/colab-badge.svg\" alt=\"Open In Colab\"/></a>"
      ]
    },
    {
      "cell_type": "code",
      "execution_count": null,
      "metadata": {
        "id": "TNkGnbBJ-ooV",
        "colab": {
          "base_uri": "https://localhost:8080/"
        },
        "outputId": "916c4845-4055-4b63-b0c3-fba3ec21d0a4"
      },
      "outputs": [
        {
          "name": "stdout",
          "output_type": "stream",
          "text": [
            "=======================================================\n",
            "\t\tWelcome to our online System\n",
            "=======================================================\n",
            "<1> List the available services\n",
            "<2> Search for a service\n",
            "<3> Purchase a service\n",
            "<4> List my services\n",
            "<5> Quit \n",
            "Please select an option from the above:2\n",
            "\n",
            "Please enter the service name you want to search or a negative number to exit:photo\n",
            "\n",
            " 2 services have been found:\n",
            "\n",
            "Service ID: 2 \n",
            "Service Name: Photoshop \n",
            "Cost: $120\n",
            "Service ID: 4 \n",
            "Service Name: Photo Advance \n",
            "Cost: $99\n",
            "Do you want to search for another course (Y/N)?N\n",
            "=======================================================\n",
            "\t\tWelcome to our online System\n",
            "=======================================================\n",
            "<1> List the available services\n",
            "<2> Search for a service\n",
            "<3> Purchase a service\n",
            "<4> List my services\n",
            "<5> Quit \n",
            "Please select an option from the above:3\n"
          ]
        }
      ],
      "source": [
        "def main_menu():\n",
        "  print(\"=======================================================\")\n",
        "  print(\"\\t\\tWelcome to our online System\")\n",
        "  print(\"=======================================================\")\n",
        "  print(\"<1> List the available services\")\n",
        "  print(\"<2> Search for a service\")\n",
        "  print(\"<3> Purchase a service\")\n",
        "  print(\"<4> List my services\")\n",
        "  print(\"<5> Quit \")\n",
        "  selected_option = int(input(\"Please select an option from the above:\"))\n",
        "  return selected_option\n",
        "\n",
        "all_services = { '1': ['MS Word', '$20'], '2':['Photoshop', '$120'],\n",
        "                  '3':['Music player','$89'], '4': ['Photo Advance', '$99'],\n",
        "                  }\n",
        "\n",
        "    \n",
        "def option1(argu):\n",
        "  print('\\nThe available services and applications are:\\n')                \n",
        "  for key, value in all_services.items():\n",
        "    print(key, '-', value[0])\n",
        "  print(\"\\nThank You!\")\n",
        "\n",
        "#Defining a function for parsing input if the input is an integer.\n",
        "def parse_int(value):\n",
        "#wrapping the logic in a try except block to handle the value error\n",
        "    try:\n",
        "        return int(value)\n",
        "    except ValueError:\n",
        "        return None\n",
        "\n",
        "\n",
        "def option2():\n",
        "    while True:\n",
        "      service_search = input(\"\\nPlease enter the service name you want to search or a negative number to exit:\")\n",
        "      int_search = parse_int(service_search)\n",
        "      if int_search is not None and int(service_search) < 0:\n",
        "        print('its a -ve number')\n",
        "        break\n",
        "      elif int_search is not None:\n",
        "        print('Please enter a valid input')\n",
        "      else:\n",
        "        search_result = {}\n",
        "        for id, name in all_services.items():\n",
        "          if service_search in name[0].replace(\" \",\"\").lower():\n",
        "            search_result[id] = name \n",
        "        if len(search_result) > 0:\n",
        "          print('\\n',len(search_result), 'services have been found:\\n')\n",
        "        for key, val in search_result.items():\n",
        "          print('Service ID:', key, '\\nService Name:', val[0], '\\nCost:', val[1])\n",
        "        else:\n",
        "          print('This service is not available')\n",
        "        while True:\n",
        "          another_search = input('Do you want to search for another course (Y/N)?')\n",
        "          if another_search == 'N':\n",
        "            main_menu()\n",
        "            break\n",
        "          elif another_search == 'Y':\n",
        "            option2()\n",
        "          else:\n",
        "            print('You should enter Y or N')\n",
        "\n",
        "def option3():\n",
        "  print(\"The available services are:\\n\")\n",
        "  for id, name in all_services.items():\n",
        "    print(id,'-' ,name[0])\n",
        "  select_option = input('\\nPlease select the service code you want to purchase or a negative number to exit:')\n",
        "  #print(type(select_option))\n",
        "  #if select_option in range(len(all_services.items())):\n",
        "  print('\\nservice detail:\\nName:',all_services[select_option][0], '\\nCost:', all_services[select_option][1])\n",
        "  confirm_purchase = input('\\nDo you want to buy this service (Y/N)?')\n",
        "  if confirm_purchase == 'Y':\n",
        "    print('Please enter your name and your credit card details:\\n')\n",
        "    customer_name = input('Name: ')\n",
        "    card_no = input('Card Number: ')\n",
        "    if len(card_no) != 10:\n",
        "      print('Please enter a valid card number')\n",
        "      card_no = input('Card Number: ')\n",
        "    card_expmo = input('MM: ')\n",
        "    if len(card_expmo) != 2:\n",
        "      print('Please enter a valid expiry Month')\n",
        "      card_expmo = input('MM: ')\n",
        "    card_expy = input('YYYY:')\n",
        "    if len(card_expy) != 4:\n",
        "      print('Please enter a valid Year')\n",
        "      card_expy = input('YYYY:')\n",
        "    with open('customer.txt', 'w') as f:\n",
        "      f.write(customer_name + select_option + all_services[select_option][0]+ all_services[select_option][1])\n",
        "    print('Thank You!\\nYou have been purchasing the ',all_services[select_option][0],'.')\n",
        "    another_purchase = input('Do you want to purchase another service (Y/N)?')\n",
        "    if another_purchase == 'Y':\n",
        "      option3()\n",
        "    else:\n",
        "      print('Thankyou for purchasing from our online shop')\n",
        "  elif confirm_purchase == 'N':\n",
        "    print('\\n')\n",
        "    main_menu()\n",
        "  else:\n",
        "    print('Exit')\n",
        "\n",
        "def option4():\n",
        "  name_search = input('Please enter your name to search:')\n",
        "  with open('/content/customer.txt', 'r') as info:\n",
        "    purchase_details = []\n",
        "    for line in info:\n",
        "      line_list = line.split(',')\n",
        "      purchase_details.append(line_list)\n",
        "    for i in range(len(purchase_details)):\n",
        "      if name_search in purchase_details[i][0]:\n",
        "        print('Hello', name_search,'you have purchased the following:\\n')\n",
        "        print(i,'-',purchase_details[i][2])\n",
        "\n",
        "\n",
        "if __name__ == '__main__':\n",
        "  choice = main_menu()\n",
        "  if choice == 1:\n",
        "    option1(all_services)\n",
        "  elif choice == 2:\n",
        "    option2()\n",
        "  elif choice == 3:\n",
        "    option3()\n",
        "  elif choice == 4:\n",
        "    option4()\n",
        "  elif choice == 5:\n",
        "    print('Go6odbye')\n",
        "  else:\n",
        "    print('Please enter a valid option')\n",
        "  \n",
        "\n"
      ]
    },
    {
      "cell_type": "code",
      "source": [
        "import os\n",
        "os.getcwd()"
      ],
      "metadata": {
        "colab": {
          "base_uri": "https://localhost:8080/",
          "height": 35
        },
        "id": "HkEvXLUJtrdy",
        "outputId": "a3127c2c-737f-4490-c53d-3a8955d41f9a"
      },
      "execution_count": null,
      "outputs": [
        {
          "output_type": "execute_result",
          "data": {
            "text/plain": [
              "'/content'"
            ],
            "application/vnd.google.colaboratory.intrinsic+json": {
              "type": "string"
            }
          },
          "metadata": {},
          "execution_count": 3
        }
      ]
    }
  ]
}